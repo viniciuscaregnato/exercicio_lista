{
 "cells": [
  {
   "cell_type": "code",
   "execution_count": 7,
   "id": "b23a6d2c-ee04-4139-82e1-b399e89907ec",
   "metadata": {},
   "outputs": [
    {
     "data": {
      "text/plain": [
       "'\\nPrograma: lista\\nDescrição: Escreva um programa que busque um determinado elemento em uma lista. Considere inicialmente a lista [1,5,-1,9]\\nAutor: Vinicius Garcia\\nVersão: 0.0.1\\nData: 03/03/2025\\n'"
      ]
     },
     "execution_count": 7,
     "metadata": {},
     "output_type": "execute_result"
    }
   ],
   "source": [
    "\"\"\"\n",
    "Programa: lista\n",
    "Descrição: Escreva um programa que busque um determinado elemento em uma lista. Considere inicialmente a lista [1,5,-1,9]\n",
    "Autor: Vinicius Garcia\n",
    "Versão: 0.0.1\n",
    "Data: 03/03/2025\n",
    "\"\"\""
   ]
  },
  {
   "cell_type": "code",
   "execution_count": 9,
   "id": "d0b9f3e3-ec9c-4b04-9072-55e1bed605d2",
   "metadata": {},
   "outputs": [],
   "source": [
    "# Alocação de memória\n",
    "lista = [1,5,-1,9]\n",
    "\n"
   ]
  },
  {
   "cell_type": "code",
   "execution_count": 23,
   "id": "98a31e8c-acf6-4f08-8b5f-d8ddee9d554d",
   "metadata": {},
   "outputs": [
    {
     "name": "stdin",
     "output_type": "stream",
     "text": [
      "Escreva o numero que deseje procurar:  -9\n"
     ]
    }
   ],
   "source": [
    "# Entrada de dados\n",
    "\n",
    "numero = int(input(\"Escreva o numero que deseje procurar: \"))\n",
    "\n"
   ]
  },
  {
   "cell_type": "code",
   "execution_count": 27,
   "id": "c7121683-e858-4855-ac08-0bf71e224f7c",
   "metadata": {},
   "outputs": [
    {
     "name": "stdout",
     "output_type": "stream",
     "text": [
      "seu numero nao esta na lista\n"
     ]
    }
   ],
   "source": [
    "# Processamento e saída de dados\n",
    "\n",
    "if numero in lista:\n",
    "    print(\"seu numero está na lista\")\n",
    "else:\n",
    "    print(\"seu numero nao esta na lista\")\n",
    "\n",
    "\n"
   ]
  }
 ],
 "metadata": {
  "kernelspec": {
   "display_name": "Python [conda env:base] *",
   "language": "python",
   "name": "conda-base-py"
  },
  "language_info": {
   "codemirror_mode": {
    "name": "ipython",
    "version": 3
   },
   "file_extension": ".py",
   "mimetype": "text/x-python",
   "name": "python",
   "nbconvert_exporter": "python",
   "pygments_lexer": "ipython3",
   "version": "3.12.7"
  }
 },
 "nbformat": 4,
 "nbformat_minor": 5
}
